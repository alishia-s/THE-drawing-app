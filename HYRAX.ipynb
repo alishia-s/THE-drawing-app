{
  "nbformat": 4,
  "nbformat_minor": 0,
  "metadata": {
    "colab": {
      "provenance": [],
      "include_colab_link": true
    },
    "kernelspec": {
      "name": "python3",
      "display_name": "Python 3"
    },
    "language_info": {
      "name": "python"
    }
  },
  "cells": [
    {
      "cell_type": "markdown",
      "metadata": {
        "id": "view-in-github",
        "colab_type": "text"
      },
      "source": [
        "<a href=\"https://colab.research.google.com/github/alishia-s/THE-drawing-app/blob/main/HYRAX.ipynb\" target=\"_parent\"><img src=\"https://colab.research.google.com/assets/colab-badge.svg\" alt=\"Open In Colab\"/></a>"
      ]
    },
    {
      "cell_type": "code",
      "execution_count": null,
      "metadata": {
        "id": "S94GC-UyvJ2h"
      },
      "outputs": [],
      "source": [
        "import pandas as pd\n",
        "import numpy as np"
      ]
    },
    {
      "cell_type": "code",
      "source": [
        "df = pd.read_csv(\"FY2021.csv\")\n",
        "\n",
        "# drop empty JOB_TITLE\n",
        "df['JOB_TITLE'].replace(\" \", np.nan, inplace=True)\n",
        "df.dropna(subset=['JOB_TITLE'], inplace=True)\n",
        "df = df[df[\"FIRST_DECISION\"] == \"Approved\"]\n",
        "df.head()"
      ],
      "metadata": {
        "id": "QEZ5feaAsqV4",
        "outputId": "c9abd4f3-85fc-41e3-ff27-77bec497c265",
        "colab": {
          "base_uri": "https://localhost:8080/",
          "height": 265
        }
      },
      "execution_count": null,
      "outputs": [
        {
          "output_type": "stream",
          "name": "stderr",
          "text": [
            "<ipython-input-31-ad0829b20da4>:1: DtypeWarning: Columns (4,7,14,16,25,29,38,39,40,41,44,46,50,51,52,55) have mixed types. Specify dtype option on import or set low_memory=False.\n",
            "  df = pd.read_csv(\"FY2021.csv\")\n"
          ]
        },
        {
          "output_type": "error",
          "ename": "NameError",
          "evalue": "name 'np' is not defined",
          "traceback": [
            "\u001b[0;31m---------------------------------------------------------------------------\u001b[0m",
            "\u001b[0;31mNameError\u001b[0m                                 Traceback (most recent call last)",
            "\u001b[0;32m<ipython-input-31-ad0829b20da4>\u001b[0m in \u001b[0;36m<cell line: 0>\u001b[0;34m()\u001b[0m\n\u001b[1;32m      2\u001b[0m \u001b[0;34m\u001b[0m\u001b[0m\n\u001b[1;32m      3\u001b[0m \u001b[0;31m# drop empty JOB_TITLE\u001b[0m\u001b[0;34m\u001b[0m\u001b[0;34m\u001b[0m\u001b[0m\n\u001b[0;32m----> 4\u001b[0;31m \u001b[0mdf\u001b[0m\u001b[0;34m[\u001b[0m\u001b[0;34m'JOB_TITLE'\u001b[0m\u001b[0;34m]\u001b[0m\u001b[0;34m.\u001b[0m\u001b[0mreplace\u001b[0m\u001b[0;34m(\u001b[0m\u001b[0;34m\" \"\u001b[0m\u001b[0;34m,\u001b[0m \u001b[0mnp\u001b[0m\u001b[0;34m.\u001b[0m\u001b[0mnan\u001b[0m\u001b[0;34m,\u001b[0m \u001b[0minplace\u001b[0m\u001b[0;34m=\u001b[0m\u001b[0;32mTrue\u001b[0m\u001b[0;34m)\u001b[0m\u001b[0;34m\u001b[0m\u001b[0;34m\u001b[0m\u001b[0m\n\u001b[0m\u001b[1;32m      5\u001b[0m \u001b[0mdf\u001b[0m\u001b[0;34m.\u001b[0m\u001b[0mdropna\u001b[0m\u001b[0;34m(\u001b[0m\u001b[0msubset\u001b[0m\u001b[0;34m=\u001b[0m\u001b[0;34m[\u001b[0m\u001b[0;34m'JOB_TITLE'\u001b[0m\u001b[0;34m]\u001b[0m\u001b[0;34m,\u001b[0m \u001b[0minplace\u001b[0m\u001b[0;34m=\u001b[0m\u001b[0;32mTrue\u001b[0m\u001b[0;34m)\u001b[0m\u001b[0;34m\u001b[0m\u001b[0;34m\u001b[0m\u001b[0m\n\u001b[1;32m      6\u001b[0m \u001b[0mdf\u001b[0m \u001b[0;34m=\u001b[0m \u001b[0mdf\u001b[0m\u001b[0;34m[\u001b[0m\u001b[0mdf\u001b[0m\u001b[0;34m[\u001b[0m\u001b[0;34m\"FIRST_DECISION\"\u001b[0m\u001b[0;34m]\u001b[0m \u001b[0;34m==\u001b[0m \u001b[0;34m\"Approved\"\u001b[0m\u001b[0;34m]\u001b[0m\u001b[0;34m\u001b[0m\u001b[0;34m\u001b[0m\u001b[0m\n",
            "\u001b[0;31mNameError\u001b[0m: name 'np' is not defined"
          ]
        }
      ]
    },
    {
      "cell_type": "code",
      "source": [
        "#getting unique employer data\n",
        "# Select only the required columns\n",
        "selected_columns = [\"employer_name\", \"FEIN\", \"PET_STREET\", \"PET_CITY\", \"PET_STATE\", \"PET_ZIP\"]\n",
        "\n",
        "# Create a new DataFrame with unique rows\n",
        "df_unique = df[selected_columns].drop_duplicates( keep=\"first\")\n",
        "df_unique.to_csv(\"FY2021_Employers.csv\")"
      ],
      "metadata": {
        "id": "UtIVpJP-qx6D"
      },
      "execution_count": null,
      "outputs": []
    },
    {
      "cell_type": "code",
      "source": [
        "def get_NAICS(df):\n",
        "  result = {\n",
        "    \"employer_name\": [],\n",
        "    \"NAICS\": [] }\n",
        "  for row in df_unique.itertuples(index=False):\n",
        "    result[\"employer_name\"].append(row.employer_name)\n",
        "    result[\"NAICS\"].append(None)\n",
        "  return result\n",
        "\n"
      ],
      "metadata": {
        "id": "1B57YtAhug5o"
      },
      "execution_count": null,
      "outputs": []
    },
    {
      "cell_type": "code",
      "source": [
        "updated_values = get_NAICS(df_unique)\n",
        "\n",
        "df_updated = pd.DataFrame.from_dict(updated_values)\n",
        "df_updated\n"
      ],
      "metadata": {
        "id": "eU8XrS8ftxy4",
        "collapsed": true
      },
      "execution_count": null,
      "outputs": []
    }
  ]
}